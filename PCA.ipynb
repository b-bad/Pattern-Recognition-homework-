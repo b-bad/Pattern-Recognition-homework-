{
 "cells": [
  {
   "cell_type": "code",
   "execution_count": 1,
   "source": [
    "from sklearn.datasets import load_iris\r\n",
    "import matplotlib.pyplot as plt\r\n",
    "import numpy as np"
   ],
   "outputs": [],
   "metadata": {}
  },
  {
   "cell_type": "code",
   "execution_count": 2,
   "source": [
    "iris = load_iris()\r\n",
    "X = iris['data']\r\n",
    "m, n = X.shape\r\n",
    "m, n"
   ],
   "outputs": [
    {
     "output_type": "execute_result",
     "data": {
      "text/plain": [
       "(150, 4)"
      ]
     },
     "metadata": {},
     "execution_count": 2
    }
   ],
   "metadata": {}
  },
  {
   "cell_type": "code",
   "execution_count": 3,
   "source": [
    "X = np.array(X).T\r\n",
    "X_c = X.copy()\r\n",
    "X_m = X.mean(axis=0)\r\n",
    "X = X - X_m"
   ],
   "outputs": [],
   "metadata": {}
  },
  {
   "cell_type": "code",
   "execution_count": 4,
   "source": [
    "Cov = np.dot(X, X.T)\r\n",
    "Cov"
   ],
   "outputs": [
    {
     "output_type": "execute_result",
     "data": {
      "text/plain": [
       "array([[ 860.544375, -140.085625,   95.279375, -815.738125],\n",
       "       [-140.085625,  166.674375, -164.390625,  137.801875],\n",
       "       [  95.279375, -164.390625,  169.054375,  -99.943125],\n",
       "       [-815.738125,  137.801875,  -99.943125,  777.879375]])"
      ]
     },
     "metadata": {},
     "execution_count": 4
    }
   ],
   "metadata": {}
  },
  {
   "cell_type": "code",
   "execution_count": 5,
   "source": [
    "eigen_value, eigen_vector = np.linalg.eig(Cov)\r\n",
    "eigen_vector"
   ],
   "outputs": [
    {
     "output_type": "execute_result",
     "data": {
      "text/plain": [
       "array([[ 0.71315768, -0.14180875,  0.5       ,  0.47042152],\n",
       "       [-0.13939309, -0.6754741 ,  0.5       , -0.52374069],\n",
       "       [ 0.10514627,  0.71657761,  0.5       , -0.47482711],\n",
       "       [-0.67891086,  0.10070524,  0.5       ,  0.52814629]])"
      ]
     },
     "metadata": {},
     "execution_count": 5
    }
   ],
   "metadata": {}
  },
  {
   "cell_type": "code",
   "execution_count": 6,
   "source": [
    "eigen_vector = eigen_vector[:, eigen_value.argsort()]\r\n",
    "eigen_value = eigen_value[eigen_value.argsort()]\r\n",
    "eigen_vector"
   ],
   "outputs": [
    {
     "output_type": "execute_result",
     "data": {
      "text/plain": [
       "array([[ 0.5       ,  0.47042152, -0.14180875,  0.71315768],\n",
       "       [ 0.5       , -0.52374069, -0.6754741 , -0.13939309],\n",
       "       [ 0.5       , -0.47482711,  0.71657761,  0.10514627],\n",
       "       [ 0.5       ,  0.52814629,  0.10070524, -0.67891086]])"
      ]
     },
     "metadata": {},
     "execution_count": 6
    }
   ],
   "metadata": {}
  },
  {
   "cell_type": "code",
   "execution_count": 7,
   "source": [
    "X_pca = np.dot(eigen_vector[:,0:2].T, X_c)\r\n",
    "X_pca"
   ],
   "outputs": [
    {
     "output_type": "execute_result",
     "data": {
      "text/plain": [
       "array([[ 5.10000000e+00,  4.75000000e+00,  4.70000000e+00,\n",
       "         4.70000000e+00,  5.10000000e+00,  5.70000000e+00,\n",
       "         4.85000000e+00,  5.05000000e+00,  4.45000000e+00,\n",
       "         4.80000000e+00,  5.40000000e+00,  5.00000000e+00,\n",
       "         4.65000000e+00,  4.25000000e+00,  5.60000000e+00,\n",
       "         6.00000000e+00,  5.50000000e+00,  5.15000000e+00,\n",
       "         5.75000000e+00,  5.35000000e+00,  5.35000000e+00,\n",
       "         5.35000000e+00,  4.70000000e+00,  5.30000000e+00,\n",
       "         5.15000000e+00,  4.90000000e+00,  5.20000000e+00,\n",
       "         5.20000000e+00,  5.10000000e+00,  4.85000000e+00,\n",
       "         4.85000000e+00,  5.35000000e+00,  5.45000000e+00,\n",
       "         5.65000000e+00,  4.85000000e+00,  4.80000000e+00,\n",
       "         5.25000000e+00,  5.00000000e+00,  4.45000000e+00,\n",
       "         5.10000000e+00,  5.05000000e+00,  4.20000000e+00,\n",
       "         4.55000000e+00,  5.35000000e+00,  5.60000000e+00,\n",
       "         4.75000000e+00,  5.35000000e+00,  4.70000000e+00,\n",
       "         5.35000000e+00,  4.95000000e+00,  8.15000000e+00,\n",
       "         7.80000000e+00,  8.20000000e+00,  6.55000000e+00,\n",
       "         7.70000000e+00,  7.15000000e+00,  7.95000000e+00,\n",
       "         5.80000000e+00,  7.70000000e+00,  6.60000000e+00,\n",
       "         5.75000000e+00,  7.30000000e+00,  6.60000000e+00,\n",
       "         7.55000000e+00,  6.70000000e+00,  7.80000000e+00,\n",
       "         7.30000000e+00,  6.80000000e+00,  7.20000000e+00,\n",
       "         6.55000000e+00,  7.85000000e+00,  7.10000000e+00,\n",
       "         7.60000000e+00,  7.40000000e+00,  7.45000000e+00,\n",
       "         7.70000000e+00,  7.90000000e+00,  8.20000000e+00,\n",
       "         7.45000000e+00,  6.40000000e+00,  6.40000000e+00,\n",
       "         6.30000000e+00,  6.80000000e+00,  7.70000000e+00,\n",
       "         7.20000000e+00,  7.75000000e+00,  8.00000000e+00,\n",
       "         7.15000000e+00,  7.00000000e+00,  6.65000000e+00,\n",
       "         6.85000000e+00,  7.55000000e+00,  6.80000000e+00,\n",
       "         5.80000000e+00,  6.90000000e+00,  7.05000000e+00,\n",
       "         7.05000000e+00,  7.35000000e+00,  5.85000000e+00,\n",
       "         6.95000000e+00,  9.05000000e+00,  7.75000000e+00,\n",
       "         9.05000000e+00,  8.30000000e+00,  8.75000000e+00,\n",
       "         9.65000000e+00,  6.80000000e+00,  9.15000000e+00,\n",
       "         8.40000000e+00,  9.70000000e+00,  8.40000000e+00,\n",
       "         8.15000000e+00,  8.70000000e+00,  7.60000000e+00,\n",
       "         8.05000000e+00,  8.60000000e+00,  8.40000000e+00,\n",
       "         1.02000000e+01,  9.75000000e+00,  7.35000000e+00,\n",
       "         9.05000000e+00,  7.65000000e+00,  9.60000000e+00,\n",
       "         7.85000000e+00,  8.90000000e+00,  9.10000000e+00,\n",
       "         7.80000000e+00,  7.90000000e+00,  8.45000000e+00,\n",
       "         8.80000000e+00,  9.10000000e+00,  1.00500000e+01,\n",
       "         8.50000000e+00,  7.85000000e+00,  7.85000000e+00,\n",
       "         9.55000000e+00,  8.85000000e+00,  8.40000000e+00,\n",
       "         7.80000000e+00,  8.75000000e+00,  8.90000000e+00,\n",
       "         8.70000000e+00,  7.75000000e+00,  9.10000000e+00,\n",
       "         9.10000000e+00,  8.60000000e+00,  7.85000000e+00,\n",
       "         8.35000000e+00,  8.65000000e+00,  7.90000000e+00],\n",
       "       [ 6.92862242e-03,  1.74714663e-01,  2.33649337e-02,\n",
       "        -6.62685720e-02, -9.24875980e-02, -9.82600750e-02,\n",
       "        -1.23093438e-01, -3.52221719e-02, -8.12202622e-03,\n",
       "         2.20432543e-02, -4.17577172e-03, -1.76789187e-01,\n",
       "         7.48578829e-02, -1.79047409e-02,  1.69318763e-01,\n",
       "        -1.24038541e-01,  9.16707708e-02,  5.97432510e-02,\n",
       "         4.24258201e-02, -1.44861667e-01,  5.79810118e-02,\n",
       "        -3.96729694e-02, -9.07253588e-02,  1.27672512e-01,\n",
       "        -3.19237321e-01,  1.26791392e-01,  2.29243739e-02,\n",
       "         6.48806262e-03,  1.06344843e-01, -1.19083201e-01,\n",
       "        -1.96669802e-02,  2.58575692e-01, -3.60570979e-01,\n",
       "        -1.71521253e-01,  7.48578829e-02,  2.11974100e-01,\n",
       "         2.42579940e-01, -1.92344378e-01, -1.30133836e-02,\n",
       "         1.18199798e-02,  6.01838109e-02,  4.53461878e-01,\n",
       "        -1.17761521e-01,  7.61795624e-02, -2.81977884e-01,\n",
       "         1.80487140e-01, -2.45159007e-01, -7.11599294e-02,\n",
       "        -5.12179234e-02,  6.46346084e-02,  1.24697776e-01,\n",
       "        -9.77508270e-03,  8.78788985e-02,  1.69996472e-01,\n",
       "         1.99280633e-01, -2.35203126e-01, -1.51342097e-01,\n",
       "         9.30458744e-03,  8.83194584e-02, -8.03289183e-02,\n",
       "         1.70877591e-01,  2.21043105e-03,  2.99137413e-01,\n",
       "        -1.41559383e-01,  9.27250564e-02,  1.78393524e-01,\n",
       "        -2.81364158e-01, -1.04299946e-01,  4.19881302e-01,\n",
       "         5.41439401e-02, -2.28990089e-01,  1.90379038e-01,\n",
       "         1.19870402e-01, -1.94814571e-01,  1.36683289e-01,\n",
       "         1.83725441e-01,  1.92627036e-01,  1.04315210e-01,\n",
       "        -4.08214828e-02,  1.85928240e-01,  1.06958569e-01,\n",
       "         1.01626652e-01,  9.62947344e-02, -1.68154985e-01,\n",
       "        -3.75448462e-01, -2.49877198e-01,  8.87600182e-02,\n",
       "         3.56402839e-01, -1.97062570e-01,  6.52483342e-02,\n",
       "        -2.29871209e-01, -1.46450740e-01,  1.01186092e-01,\n",
       "         1.08720808e-01, -8.74230747e-02, -2.50317758e-01,\n",
       "        -1.45129061e-01,  4.25989861e-02,  2.46277585e-01,\n",
       "        -4.52722804e-02, -2.93285689e-01, -1.03795403e-01,\n",
       "         7.63979278e-02, -2.63560968e-01, -1.05557642e-01,\n",
       "        -2.07702941e-02, -2.43159618e-01, -1.25518432e-01,\n",
       "         3.91384909e-02, -7.45112418e-02,  1.64439433e-02,\n",
       "         8.34920842e-02,  1.25202319e-01,  5.42079233e-02,\n",
       "         1.07903672e-01,  3.28802546e-02, -1.74368022e-01,\n",
       "        -3.87388776e-01,  1.98949256e-01,  8.83834416e-02,\n",
       "         7.81601671e-02, -1.02473723e-01,  3.07226551e-02,\n",
       "         1.73566150e-01, -1.73927462e-01, -1.87234655e-01,\n",
       "         1.21632641e-01, -7.76403600e-02, -5.70086171e-03,\n",
       "        -9.31503522e-02,  1.21677840e-01, -2.56485595e-01,\n",
       "         4.71137669e-02, -1.32217228e-01, -4.11781579e-01,\n",
       "         3.69314672e-01, -2.08543540e-01, -2.73784243e-01,\n",
       "        -7.71998002e-02,  1.67353113e-01,  1.36747273e-01,\n",
       "         4.15430505e-01, -1.03795403e-01, -6.38474075e-02,\n",
       "         3.73310522e-02,  3.26237559e-01,  2.83646205e-01,\n",
       "         7.37093695e-02, -2.13434898e-01, -2.66690086e-01]])"
      ]
     },
     "metadata": {},
     "execution_count": 7
    }
   ],
   "metadata": {}
  },
  {
   "cell_type": "code",
   "execution_count": 8,
   "source": [
    "plt.scatter(X_pca[0, 0:50], X_pca[1, 0:50], c='b')\r\n",
    "plt.scatter(X_pca[0, 50:100], X_pca[1, 0:50], c='r')\r\n",
    "plt.scatter(X_pca[0, 100:150], X_pca[1, 0:50], c='g')\r\n",
    "plt.show()"
   ],
   "outputs": [
    {
     "output_type": "display_data",
     "data": {
      "text/plain": [
       "<Figure size 432x288 with 1 Axes>"
      ],
      "image/png": "[encoded data removed]"
     },
     "metadata": {
      "needs_background": "light"
     }
    }
   ],
   "metadata": {}
  }
 ],
 "metadata": {
  "language_info": {
   "name": "python",
   "version": "3.8.10",
   "mimetype": "text/x-python",
   "codemirror_mode": {
    "name": "ipython",
    "version": 3
   },
   "pygments_lexer": "ipython3",
   "nbconvert_exporter": "python",
   "file_extension": ".py"
  },
  "orig_nbformat": 4,
  "kernelspec": {
   "name": "python3",
   "display_name": "Python 3.8.10 64-bit"
  },
  "interpreter": {
   "hash": "1baa965d5efe3ac65b79dfc60c0d706280b1da80fedb7760faf2759126c4f253"
  }
 },
 "nbformat": 4,
 "nbformat_minor": 2
}