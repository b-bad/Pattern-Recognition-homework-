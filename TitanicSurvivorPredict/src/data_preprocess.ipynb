{
 "cells": [
  {
   "cell_type": "code",
   "execution_count": 184,
   "source": [
    "import pandas as pd\r\n",
    "import numpy as np"
   ],
   "outputs": [],
   "metadata": {}
  },
  {
   "cell_type": "code",
   "execution_count": 185,
   "source": [
    "train_data = pd.read_csv(\"../data/train.csv\")\r\n",
    "test_data = pd.read_csv(\"../data/test.csv\")\r\n",
    "\r\n",
    "print(train_data.shape, test_data.shape)"
   ],
   "outputs": [
    {
     "output_type": "stream",
     "name": "stdout",
     "text": [
      "(891, 12) (418, 11)\n"
     ]
    }
   ],
   "metadata": {}
  },
  {
   "cell_type": "code",
   "execution_count": 186,
   "source": [
    "train_data.columns"
   ],
   "outputs": [
    {
     "output_type": "execute_result",
     "data": {
      "text/plain": [
       "Index(['PassengerId', 'Survived', 'Pclass', 'Name', 'Sex', 'Age', 'SibSp',\n",
       "       'Parch', 'Ticket', 'Fare', 'Cabin', 'Embarked'],\n",
       "      dtype='object')"
      ]
     },
     "metadata": {},
     "execution_count": 186
    }
   ],
   "metadata": {}
  },
  {
   "cell_type": "code",
   "execution_count": 187,
   "source": [
    "train_data.head()"
   ],
   "outputs": [
    {
     "output_type": "execute_result",
     "data": {
      "text/html": [
       "<div>\n",
       "<style scoped>\n",
       "    .dataframe tbody tr th:only-of-type {\n",
       "        vertical-align: middle;\n",
       "    }\n",
       "\n",
       "    .dataframe tbody tr th {\n",
       "        vertical-align: top;\n",
       "    }\n",
       "\n",
       "    .dataframe thead th {\n",
       "        text-align: right;\n",
       "    }\n",
       "</style>\n",
       "<table border=\"1\" class=\"dataframe\">\n",
       "  <thead>\n",
       "    <tr style=\"text-align: right;\">\n",
       "      <th></th>\n",
       "      <th>PassengerId</th>\n",
       "      <th>Survived</th>\n",
       "      <th>Pclass</th>\n",
       "      <th>Name</th>\n",
       "      <th>Sex</th>\n",
       "      <th>Age</th>\n",
       "      <th>SibSp</th>\n",
       "      <th>Parch</th>\n",
       "      <th>Ticket</th>\n",
       "      <th>Fare</th>\n",
       "      <th>Cabin</th>\n",
       "      <th>Embarked</th>\n",
       "    </tr>\n",
       "  </thead>\n",
       "  <tbody>\n",
       "    <tr>\n",
       "      <th>0</th>\n",
       "      <td>1</td>\n",
       "      <td>0</td>\n",
       "      <td>3</td>\n",
       "      <td>Braund, Mr. Owen Harris</td>\n",
       "      <td>male</td>\n",
       "      <td>22.0</td>\n",
       "      <td>1</td>\n",
       "      <td>0</td>\n",
       "      <td>A/5 21171</td>\n",
       "      <td>7.2500</td>\n",
       "      <td>NaN</td>\n",
       "      <td>S</td>\n",
       "    </tr>\n",
       "    <tr>\n",
       "      <th>1</th>\n",
       "      <td>2</td>\n",
       "      <td>1</td>\n",
       "      <td>1</td>\n",
       "      <td>Cumings, Mrs. John Bradley (Florence Briggs Th...</td>\n",
       "      <td>female</td>\n",
       "      <td>38.0</td>\n",
       "      <td>1</td>\n",
       "      <td>0</td>\n",
       "      <td>PC 17599</td>\n",
       "      <td>71.2833</td>\n",
       "      <td>C85</td>\n",
       "      <td>C</td>\n",
       "    </tr>\n",
       "    <tr>\n",
       "      <th>2</th>\n",
       "      <td>3</td>\n",
       "      <td>1</td>\n",
       "      <td>3</td>\n",
       "      <td>Heikkinen, Miss. Laina</td>\n",
       "      <td>female</td>\n",
       "      <td>26.0</td>\n",
       "      <td>0</td>\n",
       "      <td>0</td>\n",
       "      <td>STON/O2. 3101282</td>\n",
       "      <td>7.9250</td>\n",
       "      <td>NaN</td>\n",
       "      <td>S</td>\n",
       "    </tr>\n",
       "    <tr>\n",
       "      <th>3</th>\n",
       "      <td>4</td>\n",
       "      <td>1</td>\n",
       "      <td>1</td>\n",
       "      <td>Futrelle, Mrs. Jacques Heath (Lily May Peel)</td>\n",
       "      <td>female</td>\n",
       "      <td>35.0</td>\n",
       "      <td>1</td>\n",
       "      <td>0</td>\n",
       "      <td>113803</td>\n",
       "      <td>53.1000</td>\n",
       "      <td>C123</td>\n",
       "      <td>S</td>\n",
       "    </tr>\n",
       "    <tr>\n",
       "      <th>4</th>\n",
       "      <td>5</td>\n",
       "      <td>0</td>\n",
       "      <td>3</td>\n",
       "      <td>Allen, Mr. William Henry</td>\n",
       "      <td>male</td>\n",
       "      <td>35.0</td>\n",
       "      <td>0</td>\n",
       "      <td>0</td>\n",
       "      <td>373450</td>\n",
       "      <td>8.0500</td>\n",
       "      <td>NaN</td>\n",
       "      <td>S</td>\n",
       "    </tr>\n",
       "  </tbody>\n",
       "</table>\n",
       "</div>"
      ],
      "text/plain": [
       "   PassengerId  Survived  Pclass  \\\n",
       "0            1         0       3   \n",
       "1            2         1       1   \n",
       "2            3         1       3   \n",
       "3            4         1       1   \n",
       "4            5         0       3   \n",
       "\n",
       "                                                Name     Sex   Age  SibSp  \\\n",
       "0                            Braund, Mr. Owen Harris    male  22.0      1   \n",
       "1  Cumings, Mrs. John Bradley (Florence Briggs Th...  female  38.0      1   \n",
       "2                             Heikkinen, Miss. Laina  female  26.0      0   \n",
       "3       Futrelle, Mrs. Jacques Heath (Lily May Peel)  female  35.0      1   \n",
       "4                           Allen, Mr. William Henry    male  35.0      0   \n",
       "\n",
       "   Parch            Ticket     Fare Cabin Embarked  \n",
       "0      0         A/5 21171   7.2500   NaN        S  \n",
       "1      0          PC 17599  71.2833   C85        C  \n",
       "2      0  STON/O2. 3101282   7.9250   NaN        S  \n",
       "3      0            113803  53.1000  C123        S  \n",
       "4      0            373450   8.0500   NaN        S  "
      ]
     },
     "metadata": {},
     "execution_count": 187
    }
   ],
   "metadata": {}
  },
  {
   "cell_type": "code",
   "execution_count": 188,
   "source": [
    "test_data.head()"
   ],
   "outputs": [
    {
     "output_type": "execute_result",
     "data": {
      "text/html": [
       "<div>\n",
       "<style scoped>\n",
       "    .dataframe tbody tr th:only-of-type {\n",
       "        vertical-align: middle;\n",
       "    }\n",
       "\n",
       "    .dataframe tbody tr th {\n",
       "        vertical-align: top;\n",
       "    }\n",
       "\n",
       "    .dataframe thead th {\n",
       "        text-align: right;\n",
       "    }\n",
       "</style>\n",
       "<table border=\"1\" class=\"dataframe\">\n",
       "  <thead>\n",
       "    <tr style=\"text-align: right;\">\n",
       "      <th></th>\n",
       "      <th>PassengerId</th>\n",
       "      <th>Pclass</th>\n",
       "      <th>Name</th>\n",
       "      <th>Sex</th>\n",
       "      <th>Age</th>\n",
       "      <th>SibSp</th>\n",
       "      <th>Parch</th>\n",
       "      <th>Ticket</th>\n",
       "      <th>Fare</th>\n",
       "      <th>Cabin</th>\n",
       "      <th>Embarked</th>\n",
       "    </tr>\n",
       "  </thead>\n",
       "  <tbody>\n",
       "    <tr>\n",
       "      <th>0</th>\n",
       "      <td>892</td>\n",
       "      <td>3</td>\n",
       "      <td>Kelly, Mr. James</td>\n",
       "      <td>male</td>\n",
       "      <td>34.5</td>\n",
       "      <td>0</td>\n",
       "      <td>0</td>\n",
       "      <td>330911</td>\n",
       "      <td>7.8292</td>\n",
       "      <td>NaN</td>\n",
       "      <td>Q</td>\n",
       "    </tr>\n",
       "    <tr>\n",
       "      <th>1</th>\n",
       "      <td>893</td>\n",
       "      <td>3</td>\n",
       "      <td>Wilkes, Mrs. James (Ellen Needs)</td>\n",
       "      <td>female</td>\n",
       "      <td>47.0</td>\n",
       "      <td>1</td>\n",
       "      <td>0</td>\n",
       "      <td>363272</td>\n",
       "      <td>7.0000</td>\n",
       "      <td>NaN</td>\n",
       "      <td>S</td>\n",
       "    </tr>\n",
       "    <tr>\n",
       "      <th>2</th>\n",
       "      <td>894</td>\n",
       "      <td>2</td>\n",
       "      <td>Myles, Mr. Thomas Francis</td>\n",
       "      <td>male</td>\n",
       "      <td>62.0</td>\n",
       "      <td>0</td>\n",
       "      <td>0</td>\n",
       "      <td>240276</td>\n",
       "      <td>9.6875</td>\n",
       "      <td>NaN</td>\n",
       "      <td>Q</td>\n",
       "    </tr>\n",
       "    <tr>\n",
       "      <th>3</th>\n",
       "      <td>895</td>\n",
       "      <td>3</td>\n",
       "      <td>Wirz, Mr. Albert</td>\n",
       "      <td>male</td>\n",
       "      <td>27.0</td>\n",
       "      <td>0</td>\n",
       "      <td>0</td>\n",
       "      <td>315154</td>\n",
       "      <td>8.6625</td>\n",
       "      <td>NaN</td>\n",
       "      <td>S</td>\n",
       "    </tr>\n",
       "    <tr>\n",
       "      <th>4</th>\n",
       "      <td>896</td>\n",
       "      <td>3</td>\n",
       "      <td>Hirvonen, Mrs. Alexander (Helga E Lindqvist)</td>\n",
       "      <td>female</td>\n",
       "      <td>22.0</td>\n",
       "      <td>1</td>\n",
       "      <td>1</td>\n",
       "      <td>3101298</td>\n",
       "      <td>12.2875</td>\n",
       "      <td>NaN</td>\n",
       "      <td>S</td>\n",
       "    </tr>\n",
       "  </tbody>\n",
       "</table>\n",
       "</div>"
      ],
      "text/plain": [
       "   PassengerId  Pclass                                          Name     Sex  \\\n",
       "0          892       3                              Kelly, Mr. James    male   \n",
       "1          893       3              Wilkes, Mrs. James (Ellen Needs)  female   \n",
       "2          894       2                     Myles, Mr. Thomas Francis    male   \n",
       "3          895       3                              Wirz, Mr. Albert    male   \n",
       "4          896       3  Hirvonen, Mrs. Alexander (Helga E Lindqvist)  female   \n",
       "\n",
       "    Age  SibSp  Parch   Ticket     Fare Cabin Embarked  \n",
       "0  34.5      0      0   330911   7.8292   NaN        Q  \n",
       "1  47.0      1      0   363272   7.0000   NaN        S  \n",
       "2  62.0      0      0   240276   9.6875   NaN        Q  \n",
       "3  27.0      0      0   315154   8.6625   NaN        S  \n",
       "4  22.0      1      1  3101298  12.2875   NaN        S  "
      ]
     },
     "metadata": {},
     "execution_count": 188
    }
   ],
   "metadata": {}
  },
  {
   "cell_type": "code",
   "execution_count": 189,
   "source": [
    "train_label = train_data['Survived']\r\n",
    "train_data = train_data[['Pclass', 'Sex', 'Age', 'Fare']]\r\n",
    "train_data.head()\r\n",
    "train_data.Sex.value_counts()"
   ],
   "outputs": [
    {
     "output_type": "execute_result",
     "data": {
      "text/plain": [
       "male      577\n",
       "female    314\n",
       "Name: Sex, dtype: int64"
      ]
     },
     "metadata": {},
     "execution_count": 189
    }
   ],
   "metadata": {}
  },
  {
   "cell_type": "markdown",
   "source": [
    "从train_data中将'Survived'分离出来作为label(y)，将'Pclass', 'Sex', 'Age', 'Fare'分离出来作为输入(X)"
   ],
   "metadata": {}
  },
  {
   "cell_type": "code",
   "execution_count": 190,
   "source": [
    "for feature in ['Pclass', 'Sex', 'Age', 'Fare']:\r\n",
    "    print(np.any(pd.isna(test_data[feature])))"
   ],
   "outputs": [
    {
     "output_type": "stream",
     "name": "stdout",
     "text": [
      "False\n",
      "False\n",
      "True\n",
      "True\n"
     ]
    }
   ],
   "metadata": {}
  },
  {
   "cell_type": "markdown",
   "source": [
    "Age中包括有空缺数据"
   ],
   "metadata": {}
  },
  {
   "cell_type": "code",
   "execution_count": 191,
   "source": [
    "train_data.Sex.replace(\"male\", 0, inplace=True)\r\n",
    "train_data.Sex.replace(\"female\", 1, inplace=True)\r\n",
    "test_data.Sex.replace(\"male\", 0, inplace=True)\r\n",
    "test_data.Sex.replace(\"female\", 1, inplace=True)\r\n",
    "train_data.Sex.head()\r\n"
   ],
   "outputs": [
    {
     "output_type": "execute_result",
     "data": {
      "text/plain": [
       "0    0\n",
       "1    1\n",
       "2    1\n",
       "3    1\n",
       "4    0\n",
       "Name: Sex, dtype: int64"
      ]
     },
     "metadata": {},
     "execution_count": 191
    }
   ],
   "metadata": {}
  },
  {
   "cell_type": "code",
   "execution_count": 192,
   "source": [
    "sex_value_cnt = train_data.Sex.value_counts()\r\n",
    "male_num, female_num = sex_value_cnt[0], sex_value_cnt[1]\r\n",
    "age_male_sum = train_data[train_data['Sex']==0]['Age'].sum()\r\n",
    "age_female_sum = train_data[train_data['Sex']==1]['Age'].sum()\r\n",
    "\r\n",
    "age_male_aver = age_male_sum / male_num\r\n",
    "age_female_aver = age_female_sum / female_num"
   ],
   "outputs": [],
   "metadata": {}
  },
  {
   "cell_type": "code",
   "execution_count": 193,
   "source": [
    "import matplotlib\r\n",
    "\r\n",
    "train_data.Age.plot.hist()"
   ],
   "outputs": [
    {
     "output_type": "execute_result",
     "data": {
      "text/plain": [
       "<matplotlib.axes._subplots.AxesSubplot at 0x2da456f2240>"
      ]
     },
     "metadata": {},
     "execution_count": 193
    },
    {
     "output_type": "display_data",
     "data": {
      "image/png": "[encoded data removed]",
      "text/plain": [
       "<Figure size 432x288 with 1 Axes>"
      ]
     },
     "metadata": {
      "needs_background": "light"
     }
    }
   ],
   "metadata": {}
  },
  {
   "cell_type": "code",
   "execution_count": 194,
   "source": [
    "train_data[train_data['Sex']==0][\"Age\"].isna().sum()\r\n",
    "\r\n",
    "age_na_index = train_data[train_data['Age'].isna()].index.tolist()"
   ],
   "outputs": [],
   "metadata": {}
  },
  {
   "cell_type": "markdown",
   "source": [
    "待解决问题，如何直接用pandas内置函数将Age中的NaN根据不同的Sex值填充，直接对切片进行操作会导致train_data本身的值不发生变化"
   ],
   "metadata": {}
  },
  {
   "cell_type": "code",
   "execution_count": 195,
   "source": [
    "age_list = []\r\n",
    "for i in range(train_data.shape[0]):\r\n",
    "    if i in age_na_index:\r\n",
    "        if train_data.iloc[i]['Sex'] == 1:\r\n",
    "            age_list.append(age_female_aver)\r\n",
    "        else:\r\n",
    "            age_list.append(age_male_aver)\r\n",
    "    else:\r\n",
    "        age_list.append(train_data.iloc[i]['Age'])\r\n",
    "\r\n",
    "age_series = pd.Series(age_list)\r\n",
    "train_data['Age'] = age_series\r\n",
    "train_data[train_data['Sex']==0][\"Age\"].isna().sum()\r\n",
    "train_data.head"
   ],
   "outputs": [
    {
     "output_type": "execute_result",
     "data": {
      "text/plain": [
       "<bound method NDFrame.head of      Pclass  Sex        Age      Fare\n",
       "0         3    0  22.000000    7.2500\n",
       "1         1    1  38.000000   71.2833\n",
       "2         3    1  26.000000    7.9250\n",
       "3         1    1  35.000000   53.1000\n",
       "4         3    0  35.000000    8.0500\n",
       "5         3    0  24.123345    8.4583\n",
       "6         1    0  54.000000   51.8625\n",
       "7         3    0   2.000000   21.0750\n",
       "8         3    1  27.000000   11.1333\n",
       "9         2    1  14.000000   30.0708\n",
       "10        3    1   4.000000   16.7000\n",
       "11        1    1  58.000000   26.5500\n",
       "12        3    0  20.000000    8.0500\n",
       "13        3    0  39.000000   31.2750\n",
       "14        3    1  14.000000    7.8542\n",
       "15        2    1  55.000000   16.0000\n",
       "16        3    0   2.000000   29.1250\n",
       "17        2    0  24.123345   13.0000\n",
       "18        3    1  31.000000   18.0000\n",
       "19        3    1  23.203822    7.2250\n",
       "20        2    0  35.000000   26.0000\n",
       "21        2    0  34.000000   13.0000\n",
       "22        3    1  15.000000    8.0292\n",
       "23        1    0  28.000000   35.5000\n",
       "24        3    1   8.000000   21.0750\n",
       "25        3    1  38.000000   31.3875\n",
       "26        3    0  24.123345    7.2250\n",
       "27        1    0  19.000000  263.0000\n",
       "28        3    1  23.203822    7.8792\n",
       "29        3    0  24.123345    7.8958\n",
       "..      ...  ...        ...       ...\n",
       "861       2    0  21.000000   11.5000\n",
       "862       1    1  48.000000   25.9292\n",
       "863       3    1  23.203822   69.5500\n",
       "864       2    0  24.000000   13.0000\n",
       "865       2    1  42.000000   13.0000\n",
       "866       2    1  27.000000   13.8583\n",
       "867       1    0  31.000000   50.4958\n",
       "868       3    0  24.123345    9.5000\n",
       "869       3    0   4.000000   11.1333\n",
       "870       3    0  26.000000    7.8958\n",
       "871       1    1  47.000000   52.5542\n",
       "872       1    0  33.000000    5.0000\n",
       "873       3    0  47.000000    9.0000\n",
       "874       2    1  28.000000   24.0000\n",
       "875       3    1  15.000000    7.2250\n",
       "876       3    0  20.000000    9.8458\n",
       "877       3    0  19.000000    7.8958\n",
       "878       3    0  24.123345    7.8958\n",
       "879       1    1  56.000000   83.1583\n",
       "880       2    1  25.000000   26.0000\n",
       "881       3    0  33.000000    7.8958\n",
       "882       3    1  22.000000   10.5167\n",
       "883       2    0  28.000000   10.5000\n",
       "884       3    0  25.000000    7.0500\n",
       "885       3    1  39.000000   29.1250\n",
       "886       2    0  27.000000   13.0000\n",
       "887       1    1  19.000000   30.0000\n",
       "888       3    1  23.203822   23.4500\n",
       "889       1    0  26.000000   30.0000\n",
       "890       3    0  32.000000    7.7500\n",
       "\n",
       "[891 rows x 4 columns]>"
      ]
     },
     "metadata": {},
     "execution_count": 195
    }
   ],
   "metadata": {}
  },
  {
   "cell_type": "code",
   "execution_count": 196,
   "source": [
    "age_max, age_min, fare_max, fare_min = train_data['Age'].max(), train_data['Age'].min(), train_data['Fare'].max(), train_data['Fare'].min()\r\n",
    "\r\n",
    "age_bin = np.arange(int(age_min), age_max, step= 10).tolist()\r\n",
    "fare_bin = np.concatenate((np.arange(fare_min, 200, step=20),\r\n",
    "                           np.arange(200, fare_max, step=100)),axis=0).tolist()\r\n",
    "\r\n",
    "train_data['Age'] = pd.cut(train_data['Age'], age_bin, labels=False)\r\n",
    "train_data['Fare'] = pd.cut(train_data['Fare'], fare_bin, labels=False)\r\n",
    "train_data.to_csv(\"../data/processed_train_data.csv\", index=False)"
   ],
   "outputs": [],
   "metadata": {}
  }
 ],
 "metadata": {
  "orig_nbformat": 4,
  "language_info": {
   "name": "python",
   "version": "3.7.0",
   "mimetype": "text/x-python",
   "codemirror_mode": {
    "name": "ipython",
    "version": 3
   },
   "pygments_lexer": "ipython3",
   "nbconvert_exporter": "python",
   "file_extension": ".py"
  },
  "kernelspec": {
   "name": "python3",
   "display_name": "Python 3.7.0 64-bit ('base': conda)"
  },
  "interpreter": {
   "hash": "b3ba2566441a7c06988d0923437866b63cedc61552a5af99d1f4fb67d367b25f"
  }
 },
 "nbformat": 4,
 "nbformat_minor": 2
}